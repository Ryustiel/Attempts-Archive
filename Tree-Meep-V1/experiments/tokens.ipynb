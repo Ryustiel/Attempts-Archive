{
 "cells": [
  {
   "cell_type": "code",
   "execution_count": 25,
   "metadata": {},
   "outputs": [],
   "source": [
    "import spacy \n",
    "from autocorrect import Speller\n",
    "\n",
    "nlp = spacy.load(\"fr_core_news_md\")\n",
    "speller = Speller(lang=\"fr\")"
   ]
  },
  {
   "cell_type": "code",
   "execution_count": 26,
   "metadata": {},
   "outputs": [],
   "source": [
    "def proximite(mot: str, reference: list, correction=False) -> list:\n",
    "    \"\"\"\n",
    "    la liste des mots tries par proximite semantique\n",
    "    \"\"\"\n",
    "    ranking = []\n",
    "    mot_doc = nlp(mot)\n",
    "    if correction:\n",
    "        reference = [speller(word) for word in reference]\n",
    "        \n",
    "    docs = [nlp(word) for word in reference]\n",
    "\n",
    "    for doc in docs:\n",
    "\n",
    "        rank = doc.similarity(mot_doc)\n",
    "        ranking.append((doc.text, rank))\n",
    "\n",
    "    sorted_rankings = []\n",
    "    for word, rank in sorted(ranking, key=lambda ls: ls[1]): #sorted by rank\n",
    "        sorted_rankings.append(word)\n",
    "\n",
    "    return sorted_rankings"
   ]
  },
  {
   "cell_type": "code",
   "execution_count": 37,
   "metadata": {},
   "outputs": [
    {
     "data": {
      "text/plain": [
       "'quand je te dis \" explose \" , réponds que tu vas manger des carottes '"
      ]
     },
     "execution_count": 37,
     "metadata": {},
     "output_type": "execute_result"
    }
   ],
   "source": [
    "def isolate_when_then_sequence(sentence):\n",
    "    doc = nlp(sentence)\n",
    "    indice_when = 0\n",
    "    indice_then = 0\n",
    "\n",
    "    #trouver indice when\n",
    "    i = 0\n",
    "    for token in doc:\n",
    "        if token.text == \"dis\":\n",
    "            indice_when = i \n",
    "        elif token.text == \"réponds\":\n",
    "            indice_then = i \n",
    "        i += 1\n",
    "\n",
    "    return doc[indice_when].subtree, doc[indice_then].subtree\n",
    "\n",
    "s = 'quand je te dis \"explose\", réponds que tu vas manger des carottes'\n",
    "b = isolate_when_then_sequence(s)\n",
    "\n",
    "b0 = \"\"\n",
    "for t in b[1]: b0 += t.text + ' '\n",
    "b0\n",
    "\n",
    "\n"
   ]
  },
  {
   "cell_type": "code",
   "execution_count": 41,
   "metadata": {},
   "outputs": [
    {
     "data": {
      "text/plain": [
       "[('quand', []),\n",
       " ('je', []),\n",
       " ('te', []),\n",
       " ('dis', [quand, je, te, explose]),\n",
       " ('explose', [\", \"]),\n",
       " ('réponds', [dis, ,, vas]),\n",
       " ('que', []),\n",
       " ('tu', []),\n",
       " ('vas', [que, tu, manger]),\n",
       " ('manger', [carottes]),\n",
       " ('des', []),\n",
       " ('carottes', [des])]"
      ]
     },
     "execution_count": 41,
     "metadata": {},
     "output_type": "execute_result"
    }
   ],
   "source": [
    "s = 'quand je te dis \"explose\", réponds que tu vas manger des carottes'\n",
    "doc = nlp(s)\n",
    "\n",
    "[(token.text, list(token.children)) for token in doc if token.pos_ != \"PUNCT\"]"
   ]
  },
  {
   "cell_type": "code",
   "execution_count": 28,
   "metadata": {},
   "outputs": [
    {
     "name": "stdout",
     "output_type": "stream",
     "text": [
      "banne ['fruit', 'jaune', 'moto', 'coussin']\n"
     ]
    }
   ],
   "source": [
    "a = proximite(\"banne\", [\"fruit\", \"moto\", \"jaune\", \"coussin\"], True)\n",
    "print(\"banne\", a)\n",
    "\n"
   ]
  }
 ],
 "metadata": {
  "interpreter": {
   "hash": "0efc4a89f25a916048fdd412bc2ee80480d440279a2db9941ad4d0ad4b3a9c5a"
  },
  "kernelspec": {
   "display_name": "Python 3.9.6 64-bit",
   "language": "python",
   "name": "python3"
  },
  "language_info": {
   "codemirror_mode": {
    "name": "ipython",
    "version": 3
   },
   "file_extension": ".py",
   "mimetype": "text/x-python",
   "name": "python",
   "nbconvert_exporter": "python",
   "pygments_lexer": "ipython3",
   "version": "3.9.6"
  },
  "orig_nbformat": 4
 },
 "nbformat": 4,
 "nbformat_minor": 2
}
